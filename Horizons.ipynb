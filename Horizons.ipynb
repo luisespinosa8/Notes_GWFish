{
 "cells": [
  {
   "cell_type": "code",
   "execution_count": null,
   "id": "f1697abc",
   "metadata": {},
   "outputs": [],
   "source": [
    "import pandas as pd\n",
    "import numpy as np\n",
    "from astropy.cosmology import Planck18 as cosmo\n",
    "import matplotlib.pyplot as plt\n",
    "from GWFish.modules import horizon, detection"
   ]
  },
  {
   "cell_type": "markdown",
   "id": "0c751ac1",
   "metadata": {},
   "source": [
    "# Horizons"
   ]
  },
  {
   "cell_type": "code",
   "execution_count": null,
   "id": "9ae354c1",
   "metadata": {},
   "outputs": [],
   "source": [
    "base_params = {\n",
    "   'mass_1': 1e4, \n",
    "   'mass_2': 1e4, \n",
    "    \"theta_jn\": 0.,\n",
    "    \"psi\": 0.,\n",
    "    \"phase\": 0.,\n",
    "    \"geocent_time\": 1800000000,\n",
    "}\n",
    "\n",
    "detector = detection.Detector('LGWA')\n",
    "\n",
    "params = horizon.find_optimal_location(\n",
    "    base_params=base_params,\n",
    "    detector=detector,\n",
    "    waveform_model='IMRPhenomXPHM', \n",
    ")\n",
    "\n",
    "print(horizon.horizon(\n",
    "    params=params, \n",
    "    detector= detector, \n",
    "    target_SNR= 9.0, \n",
    "    waveform_model='IMRPhenomXPHM', \n",
    "    cosmology_model = cosmo, \n",
    "    source_frame_masses= True, \n",
    "    redefine_tf_vectors = False\n",
    "))"
   ]
  }
 ],
 "metadata": {
  "kernelspec": {
   "display_name": "Python 3 (ipykernel)",
   "language": "python",
   "name": "python3"
  },
  "language_info": {
   "codemirror_mode": {
    "name": "ipython",
    "version": 3
   },
   "file_extension": ".py",
   "mimetype": "text/x-python",
   "name": "python",
   "nbconvert_exporter": "python",
   "pygments_lexer": "ipython3",
   "version": "3.11.5"
  }
 },
 "nbformat": 4,
 "nbformat_minor": 5
}
