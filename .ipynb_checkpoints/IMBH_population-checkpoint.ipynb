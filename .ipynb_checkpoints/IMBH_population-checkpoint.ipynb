{
 "cells": [
  {
   "cell_type": "code",
   "execution_count": null,
   "id": "087a710d",
   "metadata": {},
   "outputs": [],
   "source": [
    "import pandas as pd\n",
    "import numpy as np\n",
    "from astropy.cosmology import Planck18 as cosmo\n",
    "import matplotlib.pyplot as plt\n",
    "from GWFish.modules.detection import Network\n",
    "from GWFish.modules.fishermatrix import compute_network_errors"
   ]
  },
  {
   "cell_type": "markdown",
   "id": "0e1d9a4e",
   "metadata": {},
   "source": [
    "# IMBH population"
   ]
  },
  {
   "cell_type": "code",
   "execution_count": null,
   "id": "83c8923a",
   "metadata": {},
   "outputs": [],
   "source": [
    "rng = np.random.default_rng(seed=1)\n",
    "ns = 10\n",
    "total_masses = rng.normal(loc=1e4, scale=1e3, size=(ns,))\n",
    "mass_ratios = rng.uniform(1, 10, size=(ns,))\n",
    "redshifts = rng.uniform(0.5, 10, size=(ns,))\n",
    "\n",
    "parameters = pd.DataFrame.from_dict({\n",
    "   'mass_1': total_masses / (1+mass_ratios), \n",
    "   'mass_2': total_masses * mass_ratios / (1+mass_ratios), \n",
    "   'redshift': redshifts,\n",
    "   'luminosity_distance': cosmo.luminosity_distance(redshifts),\n",
    "   'theta_jn': np.arccos(rng.uniform(-1., 1., size=(ns,))),\n",
    "   'dec': np.arccos(rng.uniform(-1., 1., size=(ns,))) - np.pi / 2.,\n",
    "   'ra': rng.uniform(0, 2. * np.pi, size=(ns,)),\n",
    "   'psi': rng.uniform(0, 2. * np.pi, size=(ns,)),\n",
    "   'phase': rng.uniform(0, 2. * np.pi, size=(ns,)),\n",
    "   'geocent_time': rng.uniform(1735257618, 1766793618, size=(ns,)) # full year 2035\n",
    "})"
   ]
  },
  {
   "cell_type": "code",
   "execution_count": null,
   "id": "b87d66c3",
   "metadata": {},
   "outputs": [],
   "source": [
    "# Plot of primary against secondary masses\n",
    "plt.scatter(parameters['mass_1'], parameters['mass_2'])\n",
    "plt.xlabel('Primary mass [$M_\\odot$]')\n",
    "plt.ylabel('Secondary mass [$M_\\odot$]')"
   ]
  },
  {
   "cell_type": "code",
   "execution_count": null,
   "id": "4a254d36",
   "metadata": {},
   "outputs": [],
   "source": [
    "network = Network(['LGWA'], detection_SNR=(0, 0))\n",
    "detected, snr, errors, _ = compute_network_errors(\n",
    "   network, \n",
    "   parameters, \n",
    "   waveform_model='IMRPhenomXPHM',\n",
    "   fisher_parameters=['geocent_time'],\n",
    ")\n",
    "\n",
    "snr = snr[detected]\n",
    "errors = errors[detected, :]\n",
    "snr"
   ]
  }
 ],
 "metadata": {
  "kernelspec": {
   "display_name": "Python 3 (ipykernel)",
   "language": "python",
   "name": "python3"
  },
  "language_info": {
   "codemirror_mode": {
    "name": "ipython",
    "version": 3
   },
   "file_extension": ".py",
   "mimetype": "text/x-python",
   "name": "python",
   "nbconvert_exporter": "python",
   "pygments_lexer": "ipython3",
   "version": "3.11.5"
  }
 },
 "nbformat": 4,
 "nbformat_minor": 5
}
