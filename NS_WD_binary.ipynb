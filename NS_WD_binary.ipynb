{
 "cells": [
  {
   "cell_type": "code",
   "execution_count": null,
   "id": "52536c55",
   "metadata": {},
   "outputs": [],
   "source": [
    "import pandas as pd\n",
    "import numpy as np\n",
    "from astropy.cosmology import Planck18 as cosmo\n",
    "import matplotlib.pyplot as plt\n",
    "from GWFish.modules import utilities, waveforms"
   ]
  },
  {
   "cell_type": "markdown",
   "id": "fe79b649",
   "metadata": {},
   "source": [
    "# Neutron Star - White Dwarf binaries"
   ]
  },
  {
   "cell_type": "code",
   "execution_count": null,
   "id": "6ff82ce3",
   "metadata": {},
   "outputs": [],
   "source": [
    "dwd_params = {\n",
    "   'mass_1': 1.4, \n",
    "   'mass_2': 1, \n",
    "    \"theta_jn\": 0.,\n",
    "    \"psi\": 0.,\n",
    "    \"phase\": 0.,\n",
    "    \"geocent_time\": 1800000000,\n",
    "    \"max_frequency_cutoff\": 1e-1,\n",
    "}\n",
    "detector.frequencyvector = np.linspace(0.05, 0.101, num=1000)\n",
    "\n",
    "params = horizon.find_optimal_location(\n",
    "    base_params = dwd_params,\n",
    "    detector = detector,\n",
    "    waveform_model ='TaylorF2', \n",
    ")\n",
    "\n",
    "print(horizon.horizon(\n",
    "    params = params, \n",
    "    detector = detector, \n",
    "    target_SNR = 9.0, \n",
    "    waveform_model = 'TaylorF2', \n",
    "    cosmology_model = cosmo, \n",
    "    source_frame_masses = True, \n",
    "))"
   ]
  },
  {
   "cell_type": "code",
   "execution_count": null,
   "id": "259a7e78",
   "metadata": {},
   "outputs": [],
   "source": [
    "parameters_with_distance = params | {'luminosity_distance': 22}\n",
    "data_params = {\n",
    "        'frequencyvector': detector.frequencyvector,\n",
    "        'f_ref': 50.\n",
    "    }\n",
    "waveform_obj = waveforms.TaylorF2('TaylorF2', parameters_with_distance, data_params)\n",
    "wave = waveform_obj()\n",
    "t_of_f = waveform_obj.t_of_f\n",
    "signal = detection.projection(parameters_with_distance, detector, wave, t_of_f)"
   ]
  },
  {
   "cell_type": "code",
   "execution_count": null,
   "id": "443affb0",
   "metadata": {},
   "outputs": [],
   "source": [
    "f = detector.frequencyvector\n",
    "psd = detector.components[0].Sn(f)\n",
    "h_noise = np.sqrt(f * psd)\n",
    "h_signal = 2 * f * np.abs(signal[:, 0])\n",
    "\n",
    "plt.semilogy(f, h_noise)\n",
    "plt.semilogy(f, h_signal)\n",
    "plt.xlabel('Frequency [Hz]')\n",
    "plt.show()"
   ]
  }
 ],
 "metadata": {
  "kernelspec": {
   "display_name": "Python 3 (ipykernel)",
   "language": "python",
   "name": "python3"
  },
  "language_info": {
   "codemirror_mode": {
    "name": "ipython",
    "version": 3
   },
   "file_extension": ".py",
   "mimetype": "text/x-python",
   "name": "python",
   "nbconvert_exporter": "python",
   "pygments_lexer": "ipython3",
   "version": "3.11.5"
  }
 },
 "nbformat": 4,
 "nbformat_minor": 5
}
